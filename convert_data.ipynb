{
 "cells": [
  {
   "cell_type": "code",
   "execution_count": 1,
   "metadata": {},
   "outputs": [],
   "source": [
    "import numpy as np\n",
    "import matplotlib.pyplot as plt\n",
    "from netCDF4 import Dataset\n",
    "from mpl_toolkits.basemap import Basemap\n",
    "from pylab import *\n",
    "\n",
    "def read_data(filename):\n",
    "    \"\"\"Read NetCDF file\"\"\"\n",
    "    nc_file = filename\n",
    "    fh = Dataset(nc_file, mode='r')\n",
    "    lons = fh.variables['lon'][:]\n",
    "    lats = fh.variables['lat'][:]\n",
    "    depth = fh.variables['depth'][:]\n",
    "    time = fh.variables['time'][:]\n",
    "    U  = fh.variables['water_u'][:]\n",
    "    V  = fh.variables['water_v'][:]\n",
    "    fh.close()\n",
    "\n",
    "    lons, lats = np.meshgrid(lons, lats)\n",
    "    lons -= 360.0\n",
    "    \n",
    "    return (time,lons,lats,depth,U,V)"
   ]
  },
  {
   "cell_type": "code",
   "execution_count": 2,
   "metadata": {},
   "outputs": [
    {
     "name": "stdout",
     "output_type": "stream",
     "text": [
      "[]\n",
      "[]\n",
      "[156. 159. 162. 165. 168. 171. 174. 177. 180. 183. 186.]\n",
      "(15, 3)\n",
      "(15, 3)\n"
     ]
    }
   ],
   "source": [
    "# Specify base time of dataset and file name to read\n",
    "StartDateTime = '2018-11-26 12:00:00'  # Base time of dataset from its website\n",
    "time, lons, lats, depth, u, v = read_data('../data/uv20181203.nc')\n",
    "u1 = u[0,0,:,:]  # get the first timestamp, top layer U\n",
    "v1 = v[0,0,:,:]\n",
    "\n",
    "# check nan indices\n",
    "print(np.argwhere(np.isnan(u1)))\n",
    "\n",
    "def nan_helper(y):\n",
    "    \"\"\"Helper to handle indices and logical indices of NaNs.\n",
    "\n",
    "    Input:\n",
    "        - y, 1d numpy array with possible NaNs\n",
    "    Output:\n",
    "        - nans, logical indices of NaNs\n",
    "        - index, a function, with signature indices= index(logical_indices),\n",
    "          to convert logical indices of NaNs to 'equivalent' indices\n",
    "    Example:\n",
    "        >>> # linear interpolation of NaNs\n",
    "        >>> nans, x= nan_helper(y)\n",
    "        >>> y[nans]= np.interp(x(nans), x(~nans), y[~nans])\n",
    "    \"\"\"\n",
    "    return np.isnan(y), lambda z: z.nonzero()[0]\n",
    "\n",
    "for i in range(u1.shape[0]):\n",
    "    y = u1[i,:]\n",
    "    nans, x = nan_helper(y)\n",
    "    y[nans] = np.interp(x(nans), x(~nans), y[~nans])\n",
    "    u1[i,:] = y\n",
    "\n",
    "# check if nan still exists     \n",
    "print(np.argwhere(np.isnan(u1)))\n",
    "print(time)\n",
    "print(lats.shape)\n",
    "print(u1.shape)"
   ]
  },
  {
   "cell_type": "code",
   "execution_count": 3,
   "metadata": {},
   "outputs": [
    {
     "data": {
      "image/png": "[encoded data removed]",
      "text/plain": [
       "<Figure size 432x288 with 2 Axes>"
      ]
     },
     "metadata": {
      "needs_background": "light"
     },
     "output_type": "display_data"
    }
   ],
   "source": [
    "plt.figure()\n",
    "m = Basemap(projection='cyl',llcrnrlat=lats.min(),urcrnrlat=lats.max(),\n",
    "llcrnrlon=lons.min(),urcrnrlon=lons.max(),lat_ts=10,resolution='h')\n",
    "x, y = m(lons,lats)\n",
    "cs = m.contourf(x, y, u1, cmap='coolwarm')\n",
    "m.drawparallels(np.arange(-90.,120.,1.), labels=[1,0,0,0], linewidth=0)\n",
    "m.drawmeridians(np.arange(-180.,180.,1.), labels=[0,0,0,1],linewidth=0)\n",
    "m.drawcoastlines()\n",
    "m.colorbar(cs,location='bottom',pad='10%')\n",
    "plt.title('Zonal velocity at the surface (U: m/s)')\n",
    "plt.show()"
   ]
  },
  {
   "cell_type": "code",
   "execution_count": 13,
   "metadata": {
    "scrolled": true
   },
   "outputs": [
    {
     "data": {
      "image/png": "[encoded data removed]",
      "text/plain": [
       "<Figure size 432x288 with 2 Axes>"
      ]
     },
     "metadata": {
      "needs_background": "light"
     },
     "output_type": "display_data"
    }
   ],
   "source": [
    "speed = np.sqrt(u1*u1 + v1*v1)\n",
    "\n",
    "plt.figure()\n",
    "m = Basemap(projection='cyl',llcrnrlat=lats.min(),urcrnrlat=lats.max(),\n",
    "llcrnrlon=lons.min(),urcrnrlon=lons.max(),lat_ts=10,resolution='h')\n",
    "x, y = m(lons,lats)\n",
    "#yy = np.arange(0,y.shape[0], 1)\n",
    "#xx = np.arange(0,x.shape[1], 1)\n",
    "#points = np.meshgrid(yy,xx)\n",
    "q = m.quiver(x,y,u1,v1,speed)#,pivot='mid',width=0.003,headwidth=3.5,headlength=5,headaxislength=4)#,cmap='viridis_r')\n",
    "#m.drawparallels(np.arange(-90.,120.,1.), labels=[1,0,0,0], linewidth=0)\n",
    "#m.drawmeridians(np.arange(-180.,180.,1.), labels=[0,0,0,1],linewidth=0)\n",
    "#m.drawcoastlines()\n",
    "m.colorbar(q,location='bottom',pad='10%')\n",
    "plt.title('Velocity at the surface (m/s)')\n",
    "plt.show()"
   ]
  },
  {
   "cell_type": "code",
   "execution_count": 4,
   "metadata": {},
   "outputs": [
    {
     "name": "stdout",
     "output_type": "stream",
     "text": [
      "2018-11-26 12:00:00+00:00\n"
     ]
    }
   ],
   "source": [
    "from datetime import datetime, timedelta\n",
    "from dateutil import tz\n",
    "import csv\n",
    "\n",
    "# Convert date time to local time zone\n",
    "from_zone = tz.gettz('UTC')\n",
    "to_zone = tz.gettz('America/Newfoundland')\n",
    "start = datetime.strptime(StartDateTime, '%Y-%m-%d %H:%M:%S')\n",
    "start = start.replace(tzinfo=from_zone)  # set start as UTC\n",
    "#local = start.astimezone(to_zone)  # convert to local time zone\n",
    "local = start.astimezone(from_zone)\n",
    "\n",
    "\n",
    "#delta = timedelta(2/24.)\n",
    "#datetime = datetime.strptime(StartDateTime, '%Y-%m-%d %H:%M:%S') + delta\n",
    "#print(str(datetime))\n",
    "print(local)"
   ]
  },
  {
   "cell_type": "code",
   "execution_count": 5,
   "metadata": {},
   "outputs": [
    {
     "name": "stdout",
     "output_type": "stream",
     "text": [
      "Writing file:  20181203000000.LLU\n",
      "Writing file:  20181203030000.LLU\n",
      "Writing file:  20181203060000.LLU\n",
      "Writing file:  20181203090000.LLU\n",
      "Writing file:  20181203120000.LLU\n",
      "Writing file:  20181203150000.LLU\n",
      "Writing file:  20181203180000.LLU\n",
      "Writing file:  20181203210000.LLU\n",
      "Writing file:  20181204000000.LLU\n",
      "Writing file:  20181204030000.LLU\n",
      "Writing file:  20181204060000.LLU\n"
     ]
    }
   ],
   "source": [
    "# Write output file per 3-hour\n",
    "for n in range(time.shape[0]):\n",
    "    \n",
    "    # convert time to local date time as string\n",
    "    days = time[n]/24\n",
    "    delta = timedelta(days)\n",
    "    datetime = local + delta\n",
    "    datetime = str(datetime)[0:19]\n",
    "    datetime = datetime.replace('-','').replace(' ','').replace(':','')\n",
    "    filename = datetime + '.LLU'\n",
    "    print(\"Writing file: \", filename)\n",
    "    \n",
    "    # write array\n",
    "    u0 = u[n,0,:,:]  # top layer\n",
    "    v0 = v[n,0,:,:]\n",
    "    \n",
    "    # interpolate nan points\n",
    "    for i in range(u0.shape[0]):\n",
    "        y = u0[i,:]\n",
    "        nans, x = nan_helper(y)\n",
    "        y[nans] = np.interp(x(nans), x(~nans), y[~nans])\n",
    "        u0[i,:] = y\n",
    "    for i in range(u0.shape[0]):\n",
    "        y = v0[i,:]\n",
    "        nans, x = nan_helper(y)\n",
    "        y[nans] = np.interp(x(nans), x(~nans), y[~nans])\n",
    "        v0[i,:] = y\n",
    "    \n",
    "    data = np.zeros([u0.shape[0]*u0.shape[1],4], float64)\n",
    "    ij = -1\n",
    "    for i in range(u0.shape[0]):\n",
    "        for j in range(u0.shape[1]):\n",
    "            ij += 1\n",
    "            data[ij,:] = lons[i,j], lats[i,j], u0[i,j], v0[i,j]\n",
    "\n",
    "    # write data to file\n",
    "    header = filename[2:4]+' '+filename[4:6]+' '+filename[6:8]+' '+filename[8:10]+'.00'\n",
    "    np.savetxt(filename,data,delimiter=\" \",fmt='%f',\n",
    "               header='          1.00 = to meter/sec\\n'\n",
    "              +header+' = time', comments='')"
   ]
  },
  {
   "cell_type": "code",
   "execution_count": null,
   "metadata": {},
   "outputs": [],
   "source": []
  }
 ],
 "metadata": {
  "kernelspec": {
   "display_name": "Python 3",
   "language": "python",
   "name": "python3"
  },
  "language_info": {
   "codemirror_mode": {
    "name": "ipython",
    "version": 3
   },
   "file_extension": ".py",
   "mimetype": "text/x-python",
   "name": "python",
   "nbconvert_exporter": "python",
   "pygments_lexer": "ipython3",
   "version": "3.6.4"
  }
 },
 "nbformat": 4,
 "nbformat_minor": 2
}
