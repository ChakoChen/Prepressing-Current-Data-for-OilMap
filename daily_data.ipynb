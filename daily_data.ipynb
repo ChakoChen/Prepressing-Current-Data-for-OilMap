{
 "cells": [
  {
   "cell_type": "code",
   "execution_count": 1,
   "metadata": {},
   "outputs": [],
   "source": [
    "filename = 'uv2019082119'"
   ]
  },
  {
   "cell_type": "code",
   "execution_count": 2,
   "metadata": {},
   "outputs": [],
   "source": [
    "import numpy as np\n",
    "import matplotlib.pyplot as plt\n",
    "from netCDF4 import Dataset\n",
    "from mpl_toolkits.basemap import Basemap\n",
    "#from pylab import *\n",
    "\n",
    "def write_uv():\n",
    "    \"\"\"Write NetCDF file for GNOME\"\"\"\n",
    "    \n",
    "    input_fname = '../data/' + filename + '.nc'\n",
    "    output_fname = '../data/gnome_' + filename + '.nc'\n",
    "    \n",
    "    def read_uv(input_fname):\n",
    "        \"\"\"Read NetCDF file\"\"\"\n",
    "        fh = Dataset(input_fname, mode='r')\n",
    "        lat = fh.variables['lat'][:]\n",
    "        lon = fh.variables['lon'][:]\n",
    "        time = fh.variables['time'][:]\n",
    "        water_u = fh.variables['water_u'][:]\n",
    "        water_v = fh.variables['water_v'][:]\n",
    "        time_unit = fh.variables['time'].units\n",
    "        fh.close()\n",
    "\n",
    "        lon -= 360.0\n",
    "        return (lat, lon, time, water_u, water_v, time_unit)\n",
    "    \n",
    "    # get data  \n",
    "    lat_arr, lon_arr, time_arr, water_u_arr, water_v_arr, time_unit = read_uv(input_fname)\n",
    "    numlat = lat_arr.count()\n",
    "    numlon = lon_arr.count()\n",
    "\n",
    "    # create file\n",
    "    ncfile = Dataset(output_fname,'w',format='NETCDF3_CLASSIC')\n",
    "    #ncfile = Dataset(output_fname,'w',format='NETCDF4')\n",
    "\n",
    "    # create dimensions\n",
    "    ncfile.createDimension('lat', numlat)\n",
    "    ncfile.createDimension('lon', numlon)\n",
    "    ncfile.createDimension('time', None)  # UNLIMITED  \n",
    "\n",
    "    # define variables\n",
    "    lat = ncfile.createVariable('lat', 'f4', ('lat',))\n",
    "    lon = ncfile.createVariable('lon', 'f4', ('lon',))\n",
    "    time = ncfile.createVariable('time', 'd', ('time',))\n",
    "    water_u = ncfile.createVariable('water_u', 'f4', ('time','lat','lon'), fill_value=999999)\n",
    "    water_v = ncfile.createVariable('water_v', 'f4', ('time','lat','lon'), fill_value=999999)\n",
    "\n",
    "    # add attributes to variables\n",
    "    lat.long_name = 'Latitude'\n",
    "    lat.units = 'degrees_north'\n",
    "    lat.point_spacing = 'even'\n",
    "    lon.long_name = 'Longitude'\n",
    "    lon.units = 'degrees_east'\n",
    "    lon.point_spacing = 'even'\n",
    "\n",
    "    time.long_name = 'Valid Time'\n",
    "    time.units = time_unit[:-8]\n",
    "\n",
    "    water_u.long_name = 'Eastward Water Velocity'\n",
    "    water_u.units = 'm/s'\n",
    "    water_v.long_name = 'Northward Water Velocity'\n",
    "    water_v.units = 'm/s'\n",
    "\n",
    "    # add global attributes\n",
    "    ncfile.grid_type = \"regular\"\n",
    "\n",
    "    # populte the variables with data\n",
    "    time[:] = time_arr.filled()\n",
    "    lon[:] = lon_arr.filled()\n",
    "    lat[:] = lat_arr.filled()\n",
    "    water_u[:] = water_u_arr.filled().squeeze()\n",
    "    water_v[:] = water_v_arr.filled().squeeze()\n",
    "\n",
    "    # close ncfile\n",
    "    ncfile.close()\n",
    "    \n",
    "\n",
    "def read_data(filename):\n",
    "    \"\"\"Read NetCDF file for interpolation\"\"\"\n",
    "    nc_file = filename\n",
    "    fh = Dataset(nc_file, mode='r')\n",
    "    lons = fh.variables['lon'][:]\n",
    "    lats = fh.variables['lat'][:]\n",
    "    depth = fh.variables['depth'][:]\n",
    "    time = fh.variables['time'][:]\n",
    "    U  = fh.variables['water_u'][:]\n",
    "    V  = fh.variables['water_v'][:]\n",
    "    time_unit = fh.variables['time'].units\n",
    "    fh.close()\n",
    "    \n",
    "    lons, lats = np.meshgrid(lons, lats)\n",
    "    lons -= 360.0    \n",
    "    return (time,time_unit,lons,lats,depth,U,V)\n",
    "\n",
    "\n",
    "def plot_uv(var, lats, lons):\n",
    "    plt.figure()   \n",
    "    m = Basemap(projection='cyl',llcrnrlat=lats.min(),urcrnrlat=lats.max(),llcrnrlon=lons.min(),urcrnrlon=lons.max(),lat_ts=10,resolution='h')\n",
    "    x, y = m(lons,lats)\n",
    "    cs = m.contourf(x, y, var, cmap='coolwarm')\n",
    "    m.drawparallels(np.arange(-90.,120.,1.), labels=[1,0,0,0], linewidth=0)\n",
    "    m.drawmeridians(np.arange(-180.,180.,1.), labels=[0,0,0,1],linewidth=0)\n",
    "    m.drawcoastlines()\n",
    "    m.colorbar(cs,location='bottom',pad='10%')\n",
    "    #plt.title('Velocity at the surface (U: m/s)')\n",
    "    plt.show()\n",
    "    \n",
    "\n",
    "def dd2dms(dd1,dd2,ndec=6):  \n",
    "    \"\"\"\n",
    "    Convert a decimal degree coordinate pair to a six-tuple of degrees, minutes seconds.\n",
    "    The returned values are not rounded.  \n",
    "      \n",
    "    Arguments:\n",
    "    dd1, dd2 - coordinate pair, in decimal degrees  \n",
    "        \n",
    "    Example:\n",
    "      >>> dd2dms(-74.25,32.1)  \n",
    "      (-74, 15, 6.9444444444444444e-05, 32, 6, 2.7777777777778172e-05)  \n",
    "    \"\"\"  \n",
    "    # Author: Curtis Price, http://profile.usgs.gov/cprice  \n",
    "    # Disclaimer: Not approved by USGS. (Provisional, subject to revision.)      \n",
    "    def ToDMS(dd):  \n",
    "        dd1 = abs(float(dd))  \n",
    "        cdeg = int(dd1)  \n",
    "        minsec = dd1 - cdeg  \n",
    "        cmin = int(minsec * 60)  \n",
    "        csec = (minsec % 60) / float(3600)      \n",
    "        if dd < 0: cdeg = cdeg * -1  \n",
    "        return cdeg,cmin#,csec   # CHAKO\n",
    "      \n",
    "    try:  \n",
    "        # return a six-tuple  \n",
    "        return ToDMS(dd1) + ToDMS(dd2)             \n",
    "    except:  \n",
    "        raise Exception(\"Invalid input\")\n",
    "        \n",
    "        \n",
    "def dms2dd(deg1,min1,sec1,deg2,min2,sec2):  \n",
    "    \"\"\"\n",
    "    Convert a degrees-minutes seconds coordinate pair to decimal degrees.  \n",
    "    The returned values are not rounded.  \n",
    "          \n",
    "    Arguments:\n",
    "      deg1,min1,sec1,deg2,min2,sec2 - DMS coordinate pair (six values)  \n",
    "      \n",
    "    Example:\n",
    "      >>> dms2deg(-74,45,0,34,10,20)  \n",
    "      (-74.75, 34.172222222222217)  \n",
    "    \"\"\"  \n",
    "    # Author: Curtis Price, http://profile.usgs.gov/cprice  \n",
    "    # Disclaimer: Not approved by USGS. (Provisional, subject to revision.)      \n",
    "    def ToDD(deg,min=0,sec=0):  \n",
    "        dd = abs(deg) + min / 60.0 + sec / 3600.0  \n",
    "        if deg < 0:  \n",
    "            dd = dd * -1.0  \n",
    "        return dd  \n",
    "    try:  \n",
    "        return ToDD(deg1,min1,sec1), ToDD(deg2,min2,sec2)  \n",
    "    except Exception:  \n",
    "        raise Exception(\"Invalid input\")"
   ]
  },
  {
   "cell_type": "markdown",
   "metadata": {},
   "source": [
    "### (1) Read in NetCDF file, and write out to a new NetCDF file as required by GNOME"
   ]
  },
  {
   "cell_type": "code",
   "execution_count": 3,
   "metadata": {},
   "outputs": [],
   "source": [
    "# read in and write out NetCDF files\n",
    "write_uv()"
   ]
  },
  {
   "cell_type": "markdown",
   "metadata": {},
   "source": [
    "### (2.1) Read in NetCDF file"
   ]
  },
  {
   "cell_type": "code",
   "execution_count": 4,
   "metadata": {},
   "outputs": [],
   "source": [
    "# Read data and take daily mean\n",
    "time_arr, time_unit, lons, lats, depth, u, v = read_data('../data/' + filename + '.nc')\n",
    "umean = np.mean(u, axis=0).squeeze()\n",
    "vmean = np.mean(v, axis=0).squeeze()"
   ]
  },
  {
   "cell_type": "code",
   "execution_count": 5,
   "metadata": {},
   "outputs": [
    {
     "data": {
      "image/png": "[encoded data removed]",
      "text/plain": [
       "<Figure size 432x288 with 2 Axes>"
      ]
     },
     "metadata": {
      "needs_background": "light"
     },
     "output_type": "display_data"
    },
    {
     "data": {
      "image/png": "[encoded data removed]",
      "text/plain": [
       "<Figure size 432x288 with 2 Axes>"
      ]
     },
     "metadata": {
      "needs_background": "light"
     },
     "output_type": "display_data"
    }
   ],
   "source": [
    "# Plot U, V\n",
    "plot_uv(umean, lats, lons)\n",
    "plot_uv(vmean, lats, lons)"
   ]
  },
  {
   "cell_type": "markdown",
   "metadata": {},
   "source": [
    "### (2.2) Interpolate u, v"
   ]
  },
  {
   "cell_type": "code",
   "execution_count": 6,
   "metadata": {},
   "outputs": [
    {
     "data": {
      "image/png": "[encoded data removed]",
      "text/plain": [
       "<Figure size 432x288 with 2 Axes>"
      ]
     },
     "metadata": {
      "needs_background": "light"
     },
     "output_type": "display_data"
    },
    {
     "data": {
      "image/png": "[encoded data removed]",
      "text/plain": [
       "<Figure size 432x288 with 2 Axes>"
      ]
     },
     "metadata": {
      "needs_background": "light"
     },
     "output_type": "display_data"
    }
   ],
   "source": [
    "# Interpolate u, v onto higher resolution grids\n",
    "from scipy.interpolate import griddata\n",
    "\n",
    "# 1d high resolution grids\n",
    "hlons = np.arange(lons.min(), lons.max(), 0.016667)\n",
    "hlats = np.arange(lats.min(), lats.max(), 0.016667)\n",
    "\n",
    "# convert to 2d meshgrids\n",
    "hlons2d, hlats2d = np.meshgrid(hlons, hlats)\n",
    "\n",
    "# set mask\n",
    "#mask = (hlons > 0.5) & (hlons < 0.6) & (hlats > 0.5) & (hlats < 0.6)\n",
    "\n",
    "# interpolate\n",
    "humean = griddata((lons.flatten(), lats.flatten()), umean.flatten(), (hlons2d, hlats2d), method='linear')\n",
    "hvmean = griddata((lons.flatten(), lats.flatten()), vmean.flatten(), (hlons2d, hlats2d), method='linear')\n",
    "\n",
    "# mask out the field\n",
    "#humean[mask] = np.nan\n",
    "#hvmean[mask] = np.nan\n",
    "\n",
    "# plot new field\n",
    "plot_uv(humean, hlats2d, hlons2d)\n",
    "plot_uv(hvmean, hlats2d, hlons2d)"
   ]
  },
  {
   "cell_type": "markdown",
   "metadata": {},
   "source": [
    "### (2.3) Write interpolated data to new NetCDF file"
   ]
  },
  {
   "cell_type": "code",
   "execution_count": 7,
   "metadata": {},
   "outputs": [],
   "source": [
    "# Write interpolated data to netcdf file\n",
    "gnome_filename = 'gnome_' + filename + '_constant.nc'\n",
    "ncfile = Dataset('../data/'+gnome_filename,'w',format='NETCDF3_CLASSIC')\n",
    "\n",
    "# create dimensions\n",
    "ncfile.createDimension('lat', hlats.size)\n",
    "ncfile.createDimension('lon', hlons.size)\n",
    "ncfile.createDimension('time', None)  # UNLIMITED  \n",
    "\n",
    "# define variables\n",
    "lat = ncfile.createVariable('lat', 'f4', ('lat',))\n",
    "lon = ncfile.createVariable('lon', 'f4', ('lon',))\n",
    "time = ncfile.createVariable('time', 'd', ('time',))\n",
    "water_u = ncfile.createVariable('water_u', 'f4', ('time','lat','lon'), fill_value=999999)\n",
    "water_v = ncfile.createVariable('water_v', 'f4', ('time','lat','lon'), fill_value=999999)\n",
    "\n",
    "# add attributes to variables\n",
    "lat.long_name = 'Latitude'\n",
    "lat.units = 'degrees_north'\n",
    "lat.point_spacing = 'even'\n",
    "lon.long_name = 'Longitude'\n",
    "lon.units = 'degrees_east'\n",
    "lon.point_spacing = 'even'\n",
    "\n",
    "time.long_name = 'Valid Time'\n",
    "#time.units = time_unit[:-8]\n",
    "\n",
    "water_u.long_name = 'Eastward Water Velocity'\n",
    "water_u.units = 'm/s'\n",
    "water_v.long_name = 'Northward Water Velocity'\n",
    "water_v.units = 'm/s'\n",
    "\n",
    "# add global attributes\n",
    "ncfile.grid_type = \"regular\"\n",
    "#ncfile.history = \"Created \" + datetime.datetime.today().strftime(\"%d/%m/%y\")    \n",
    "\n",
    "# populte the variables with data\n",
    "lat[:] = hlats\n",
    "lon[:] = hlons\n",
    "time[:] = time_arr\n",
    "for i in range(time_arr.size):\n",
    "    water_u[i] = humean.reshape(hlons.size, hlats.size)\n",
    "    water_v[i] = hvmean.reshape(hlons.size, hlats.size)\n",
    "\n",
    "ncfile.close()"
   ]
  },
  {
   "cell_type": "markdown",
   "metadata": {},
   "source": [
    "### (2.4) Write interpolated data to CSV file for OilMap"
   ]
  },
  {
   "cell_type": "code",
   "execution_count": 8,
   "metadata": {},
   "outputs": [],
   "source": [
    "# Convert decimal degrees to degree, minute, and second\n",
    "hlats2d = hlats2d.flatten()\n",
    "hlons2d = hlons2d.flatten()\n",
    "latlon = []\n",
    "for i in range(len(hlons2d)):\n",
    "    latlon.append(dd2dms(hlats2d[i], hlons2d[i]))"
   ]
  },
  {
   "cell_type": "code",
   "execution_count": 9,
   "metadata": {},
   "outputs": [],
   "source": [
    "# Write uv to file\n",
    "latlon = np.asarray(latlon)\n",
    "humean = humean.flatten()\n",
    "hvmean = hvmean.flatten()\n",
    "\n",
    "#data = np.column_stack((latlon, hlats2d, hlons2d, humean, hvmean))\n",
    "data = np.column_stack((latlon, humean, hvmean))\n",
    "np.savetxt('../data/' + filename + '.csv', data, delimiter=\" \", fmt='%1.2f')"
   ]
  },
  {
   "cell_type": "markdown",
   "metadata": {},
   "source": [
    "### (3) Select part of the data"
   ]
  },
  {
   "cell_type": "code",
   "execution_count": 10,
   "metadata": {},
   "outputs": [],
   "source": [
    "# Convert ndarry to DataFrame and filter longitude and latitude\n",
    "#import pandas as pd\n",
    "#df = pd.DataFrame(data=data, columns=['lat_deg', 'lat_min', 'lon_deg', 'lon_min', 'lat', 'lon', 'u', 'v'])\n",
    "\n",
    "# filter lon and lat to get a desired regions\n",
    "#df = df.loc[(df['lat']>=46.4) & (df['lat']<=46.8) & (df['lon']<=-48.2) & (df['lon']>=-48.8)]\n",
    "#df = df.iloc[::4, :]  # every 4th row\n",
    "\n",
    "# write to csv\n",
    "#df.to_csv('../data/' + filename + '_region.csv', sep='\\t')"
   ]
  },
  {
   "cell_type": "code",
   "execution_count": null,
   "metadata": {},
   "outputs": [],
   "source": []
  }
 ],
 "metadata": {
  "kernelspec": {
   "display_name": "Python 3",
   "language": "python",
   "name": "python3"
  },
  "language_info": {
   "codemirror_mode": {
    "name": "ipython",
    "version": 3
   },
   "file_extension": ".py",
   "mimetype": "text/x-python",
   "name": "python",
   "nbconvert_exporter": "python",
   "pygments_lexer": "ipython3",
   "version": "3.6.4"
  }
 },
 "nbformat": 4,
 "nbformat_minor": 2
}
